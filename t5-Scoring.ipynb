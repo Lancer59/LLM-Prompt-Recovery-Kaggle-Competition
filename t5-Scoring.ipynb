{
 "cells": [
  {
   "cell_type": "code",
   "execution_count": 1,
   "metadata": {
    "_cell_guid": "b1076dfc-b9ad-4769-8c92-a6c4dae69d19",
    "_uuid": "8f2839f25d086af736a60e9eeb907d3b93b6e0e5",
    "execution": {
     "iopub.execute_input": "2024-04-15T22:12:43.409668Z",
     "iopub.status.busy": "2024-04-15T22:12:43.409103Z",
     "iopub.status.idle": "2024-04-15T22:13:06.329659Z",
     "shell.execute_reply": "2024-04-15T22:13:06.328501Z",
     "shell.execute_reply.started": "2024-04-15T22:12:43.409635Z"
    }
   },
   "outputs": [],
   "source": [
    "!pip -q install sentence-transformers\n",
    "\n",
    "from sentence_transformers import SentenceTransformer\n",
    "import numpy as np \n",
    "import pandas as pd # data processing, CSV file I/O (e.g. pd.read_csv)\n",
    "\n",
    "import torch\n",
    "\n"
   ]
  },
  {
   "cell_type": "markdown",
   "metadata": {},
   "source": [
    "# Load T5 / Scoring Logic"
   ]
  },
  {
   "cell_type": "code",
   "execution_count": 2,
   "metadata": {
    "execution": {
     "iopub.execute_input": "2024-04-15T22:13:06.333842Z",
     "iopub.status.busy": "2024-04-15T22:13:06.333339Z",
     "iopub.status.idle": "2024-04-15T22:13:13.145025Z",
     "shell.execute_reply": "2024-04-15T22:13:13.144162Z",
     "shell.execute_reply.started": "2024-04-15T22:13:06.333806Z"
    }
   },
   "outputs": [
    {
     "data": {
      "application/vnd.jupyter.widget-view+json": {
       "model_id": "d153927359294cc38b45221de3970d8d",
       "version_major": 2,
       "version_minor": 0
      },
      "text/plain": [
       "modules.json:   0%|          | 0.00/461 [00:00<?, ?B/s]"
      ]
     },
     "metadata": {},
     "output_type": "display_data"
    },
    {
     "data": {
      "application/vnd.jupyter.widget-view+json": {
       "model_id": "7fa0b7adfec942d5b1c4ad6c929b0a84",
       "version_major": 2,
       "version_minor": 0
      },
      "text/plain": [
       "config_sentence_transformers.json:   0%|          | 0.00/122 [00:00<?, ?B/s]"
      ]
     },
     "metadata": {},
     "output_type": "display_data"
    },
    {
     "data": {
      "application/vnd.jupyter.widget-view+json": {
       "model_id": "3d39c97baf8e48978f21f444f7fb443a",
       "version_major": 2,
       "version_minor": 0
      },
      "text/plain": [
       "README.md:   0%|          | 0.00/1.98k [00:00<?, ?B/s]"
      ]
     },
     "metadata": {},
     "output_type": "display_data"
    },
    {
     "data": {
      "application/vnd.jupyter.widget-view+json": {
       "model_id": "2e906c196b2b483a8de0ab66ff6705d0",
       "version_major": 2,
       "version_minor": 0
      },
      "text/plain": [
       "sentence_bert_config.json:   0%|          | 0.00/53.0 [00:00<?, ?B/s]"
      ]
     },
     "metadata": {},
     "output_type": "display_data"
    },
    {
     "data": {
      "application/vnd.jupyter.widget-view+json": {
       "model_id": "ddf23a89c52b400ea08dcd8bab508bfc",
       "version_major": 2,
       "version_minor": 0
      },
      "text/plain": [
       "config.json:   0%|          | 0.00/1.39k [00:00<?, ?B/s]"
      ]
     },
     "metadata": {},
     "output_type": "display_data"
    },
    {
     "data": {
      "application/vnd.jupyter.widget-view+json": {
       "model_id": "717c9559dbab4975b9f4dedbdca4d73a",
       "version_major": 2,
       "version_minor": 0
      },
      "text/plain": [
       "model.safetensors:   0%|          | 0.00/219M [00:00<?, ?B/s]"
      ]
     },
     "metadata": {},
     "output_type": "display_data"
    },
    {
     "data": {
      "application/vnd.jupyter.widget-view+json": {
       "model_id": "a61044af194b472b942780ea467c5b93",
       "version_major": 2,
       "version_minor": 0
      },
      "text/plain": [
       "tokenizer_config.json:   0%|          | 0.00/1.92k [00:00<?, ?B/s]"
      ]
     },
     "metadata": {},
     "output_type": "display_data"
    },
    {
     "data": {
      "application/vnd.jupyter.widget-view+json": {
       "model_id": "dc8dd25ffe474fcda65bce67c9b5b5c9",
       "version_major": 2,
       "version_minor": 0
      },
      "text/plain": [
       "spiece.model:   0%|          | 0.00/792k [00:00<?, ?B/s]"
      ]
     },
     "metadata": {},
     "output_type": "display_data"
    },
    {
     "data": {
      "application/vnd.jupyter.widget-view+json": {
       "model_id": "d8f8ff1099604e9289c2c7b6bc28a696",
       "version_major": 2,
       "version_minor": 0
      },
      "text/plain": [
       "tokenizer.json:   0%|          | 0.00/1.39M [00:00<?, ?B/s]"
      ]
     },
     "metadata": {},
     "output_type": "display_data"
    },
    {
     "data": {
      "application/vnd.jupyter.widget-view+json": {
       "model_id": "ff7c098df0744553be3c3dd5cb254471",
       "version_major": 2,
       "version_minor": 0
      },
      "text/plain": [
       "special_tokens_map.json:   0%|          | 0.00/1.79k [00:00<?, ?B/s]"
      ]
     },
     "metadata": {},
     "output_type": "display_data"
    },
    {
     "data": {
      "application/vnd.jupyter.widget-view+json": {
       "model_id": "b01b5f3190234544981b19ad3b84cc6f",
       "version_major": 2,
       "version_minor": 0
      },
      "text/plain": [
       "1_Pooling/config.json:   0%|          | 0.00/190 [00:00<?, ?B/s]"
      ]
     },
     "metadata": {},
     "output_type": "display_data"
    },
    {
     "data": {
      "application/vnd.jupyter.widget-view+json": {
       "model_id": "ba164bb320b545208c00289d195b46d7",
       "version_major": 2,
       "version_minor": 0
      },
      "text/plain": [
       "2_Dense/pytorch_model.bin:   0%|          | 0.00/2.36M [00:00<?, ?B/s]"
      ]
     },
     "metadata": {},
     "output_type": "display_data"
    },
    {
     "data": {
      "application/vnd.jupyter.widget-view+json": {
       "model_id": "6cd69292729e4f15a5a136dea6de0e01",
       "version_major": 2,
       "version_minor": 0
      },
      "text/plain": [
       "2_Dense/model.safetensors:   0%|          | 0.00/2.36M [00:00<?, ?B/s]"
      ]
     },
     "metadata": {},
     "output_type": "display_data"
    },
    {
     "data": {
      "application/vnd.jupyter.widget-view+json": {
       "model_id": "efe3e5a8629e4ebe919549e512ac40e3",
       "version_major": 2,
       "version_minor": 0
      },
      "text/plain": [
       "2_Dense/config.json:   0%|          | 0.00/115 [00:00<?, ?B/s]"
      ]
     },
     "metadata": {},
     "output_type": "display_data"
    },
    {
     "data": {
      "application/vnd.jupyter.widget-view+json": {
       "model_id": "97ab68d40d684a909cbe0aa9a783ea2a",
       "version_major": 2,
       "version_minor": 0
      },
      "text/plain": [
       "2_Dense/rust_model.ot:   0%|          | 0.00/2.36M [00:00<?, ?B/s]"
      ]
     },
     "metadata": {},
     "output_type": "display_data"
    }
   ],
   "source": [
    "model = SentenceTransformer('sentence-t5-base')\n",
    "\n"
   ]
  },
  {
   "cell_type": "code",
   "execution_count": 3,
   "metadata": {
    "execution": {
     "iopub.execute_input": "2024-04-15T22:14:13.534050Z",
     "iopub.status.busy": "2024-04-15T22:14:13.533131Z",
     "iopub.status.idle": "2024-04-15T22:14:14.097181Z",
     "shell.execute_reply": "2024-04-15T22:14:14.096353Z",
     "shell.execute_reply.started": "2024-04-15T22:14:13.534016Z"
    }
   },
   "outputs": [],
   "source": [
    "import pandas as pd\n",
    "data = pd.read_excel(\"/kaggle/input/pred4444/pred4.xlsx\")"
   ]
  },
  {
   "cell_type": "code",
   "execution_count": 4,
   "metadata": {
    "execution": {
     "iopub.execute_input": "2024-04-15T22:14:14.099615Z",
     "iopub.status.busy": "2024-04-15T22:14:14.098856Z",
     "iopub.status.idle": "2024-04-15T22:14:14.122659Z",
     "shell.execute_reply": "2024-04-15T22:14:14.121576Z",
     "shell.execute_reply.started": "2024-04-15T22:14:14.099585Z"
    }
   },
   "outputs": [
    {
     "data": {
      "text/html": [
       "<div>\n",
       "<style scoped>\n",
       "    .dataframe tbody tr th:only-of-type {\n",
       "        vertical-align: middle;\n",
       "    }\n",
       "\n",
       "    .dataframe tbody tr th {\n",
       "        vertical-align: top;\n",
       "    }\n",
       "\n",
       "    .dataframe thead th {\n",
       "        text-align: right;\n",
       "    }\n",
       "</style>\n",
       "<table border=\"1\" class=\"dataframe\">\n",
       "  <thead>\n",
       "    <tr style=\"text-align: right;\">\n",
       "      <th></th>\n",
       "      <th>Unnamed: 0</th>\n",
       "      <th>Original Text</th>\n",
       "      <th>Prompt</th>\n",
       "      <th>Rewritten Text</th>\n",
       "      <th>output</th>\n",
       "    </tr>\n",
       "  </thead>\n",
       "  <tbody>\n",
       "    <tr>\n",
       "      <th>0</th>\n",
       "      <td>0</td>\n",
       "      <td>The sun rises in the east and sets in the west.</td>\n",
       "      <td>Rewrite this as a romantic poem.</td>\n",
       "      <td>In the east, where dreams take flight, the sun...</td>\n",
       "      <td>Rewrite the text in a more poetic and descrip...</td>\n",
       "    </tr>\n",
       "    <tr>\n",
       "      <th>1</th>\n",
       "      <td>1</td>\n",
       "      <td>Albert Einstein was a brilliant physicist who ...</td>\n",
       "      <td>Rewrite this as a conspiracy theory.</td>\n",
       "      <td>Deep in the shadows of academia, whispers abou...</td>\n",
       "      <td>Change it into a conspiracy theorist's blog p...</td>\n",
       "    </tr>\n",
       "    <tr>\n",
       "      <th>2</th>\n",
       "      <td>2</td>\n",
       "      <td>Water boils at 100 degrees Celsius.</td>\n",
       "      <td>Rewrite this in the style of a scientific rese...</td>\n",
       "      <td>Empirical observations indicate that the phase...</td>\n",
       "      <td>vation: In the rewritten text the key elements...</td>\n",
       "    </tr>\n",
       "    <tr>\n",
       "      <th>3</th>\n",
       "      <td>3</td>\n",
       "      <td>The cat sat on the mat.</td>\n",
       "      <td>Rewrite this as a horror story.</td>\n",
       "      <td>In the dimly lit room, a solitary figure watch...</td>\n",
       "      <td>Change it into a scene from a suspenseful mys...</td>\n",
       "    </tr>\n",
       "    <tr>\n",
       "      <th>4</th>\n",
       "      <td>4</td>\n",
       "      <td>Romeo and Juliet is a tragic love story writte...</td>\n",
       "      <td>Rewrite this as a clickbait headline.</td>\n",
       "      <td>You won't believe what happened to these star-...</td>\n",
       "      <td>Change it into a headline for a gossip magazine.</td>\n",
       "    </tr>\n",
       "    <tr>\n",
       "      <th>5</th>\n",
       "      <td>5</td>\n",
       "      <td>The Great Depression was a period of economic ...</td>\n",
       "      <td>Rewrite this as a children's bedtime story.</td>\n",
       "      <td>Once upon a time, in a land not so far away, t...</td>\n",
       "      <td>Change it into a fairy tale.</td>\n",
       "    </tr>\n",
       "    <tr>\n",
       "      <th>6</th>\n",
       "      <td>6</td>\n",
       "      <td>Photosynthesis is the process by which plants ...</td>\n",
       "      <td>Rewrite this as a cooking recipe.</td>\n",
       "      <td>To whip up a batch of energy, gather some gree...</td>\n",
       "      <td>Change it into a recipe for a delicious drink.</td>\n",
       "    </tr>\n",
       "    <tr>\n",
       "      <th>7</th>\n",
       "      <td>7</td>\n",
       "      <td>The Mona Lisa is a famous painting by Leonardo...</td>\n",
       "      <td>Rewrite this as a tweet from a modern art critic.</td>\n",
       "      <td>Da Vinci's masterpiece, the Mona Lisa, transce...</td>\n",
       "      <td>Change it into a motivational quote.</td>\n",
       "    </tr>\n",
       "    <tr>\n",
       "      <th>8</th>\n",
       "      <td>8</td>\n",
       "      <td>The Earth orbits around the Sun.</td>\n",
       "      <td>Rewrite this as a text message from an alien s...</td>\n",
       "      <td>Observations confirm: planetary entity designa...</td>\n",
       "      <td>Rewrite the text in a more scientific tone.</td>\n",
       "    </tr>\n",
       "    <tr>\n",
       "      <th>9</th>\n",
       "      <td>9</td>\n",
       "      <td>Charles Dickens wrote 'A Tale of Two Cities'.</td>\n",
       "      <td>Rewrite this as a tweet from a literary fan ac...</td>\n",
       "      <td>Dive into the riveting tale woven by the inco...</td>\n",
       "      <td>Rewrite the sentence as a social media post.</td>\n",
       "    </tr>\n",
       "    <tr>\n",
       "      <th>10</th>\n",
       "      <td>10</td>\n",
       "      <td>The road less traveled by Robert Frost winds t...</td>\n",
       "      <td>Rewrite this as a recipe for success, incorpor...</td>\n",
       "      <td>Take a dash of courage and a pinch of persever...</td>\n",
       "      <td>Change it into a recipe for a magical potion.</td>\n",
       "    </tr>\n",
       "    <tr>\n",
       "      <th>11</th>\n",
       "      <td>11</td>\n",
       "      <td>Once upon a time in a faraway kingdom, there l...</td>\n",
       "      <td>Rewrite this as a scientific discovery, with t...</td>\n",
       "      <td>In a distant realm of the space-time continuum...</td>\n",
       "      <td>Change it into a scientific breakthrough.</td>\n",
       "    </tr>\n",
       "    <tr>\n",
       "      <th>12</th>\n",
       "      <td>12</td>\n",
       "      <td>Dear Mom and Dad, I hope this letter finds you...</td>\n",
       "      <td>Rewrite this as a piece of dialogue in a myste...</td>\n",
       "      <td>Sherlock, I've intercepted a letter addressed ...</td>\n",
       "      <td>Change it into a detective's message to be de...</td>\n",
       "    </tr>\n",
       "    <tr>\n",
       "      <th>13</th>\n",
       "      <td>13</td>\n",
       "      <td>Memo: New policies regarding remote work.</td>\n",
       "      <td>Rewrite this as a poem, with the advice of Yod...</td>\n",
       "      <td>In the realm of work, a memo arrives, with new...</td>\n",
       "      <td>Change it into a mystical and poetic descript...</td>\n",
       "    </tr>\n",
       "    <tr>\n",
       "      <th>14</th>\n",
       "      <td>14</td>\n",
       "      <td>Excerpt from 'The Great Gatsby' by F. Scott Fi...</td>\n",
       "      <td>Rewrite this as a motivational quote, incorpor...</td>\n",
       "      <td>In the face of adversity, we press forward, de...</td>\n",
       "      <td>Change it into a motivational quote from a ch...</td>\n",
       "    </tr>\n",
       "    <tr>\n",
       "      <th>15</th>\n",
       "      <td>15</td>\n",
       "      <td>Review of 'Inception' directed by Christopher ...</td>\n",
       "      <td>Rewrite this as a lullaby, with the guidance o...</td>\n",
       "      <td>Close your eyes, drift away, in dreams we'll d...</td>\n",
       "      <td>Change it into a lullaby.</td>\n",
       "    </tr>\n",
       "    <tr>\n",
       "      <th>16</th>\n",
       "      <td>16</td>\n",
       "      <td>Summary of '1984' by George Orwell: A dystopia...</td>\n",
       "      <td>Rewrite this as a weather report, with the inp...</td>\n",
       "      <td>Under the oppressive skies of Oceania, a total...</td>\n",
       "      <td>Change it into a prophecy from a future society.</td>\n",
       "    </tr>\n",
       "    <tr>\n",
       "      <th>17</th>\n",
       "      <td>17</td>\n",
       "      <td>Recipe for creamy tomato basil soup: Simmer ri...</td>\n",
       "      <td>Rewrite this as a love letter, with the guidan...</td>\n",
       "      <td>My dearest, in the kitchen of my heart, I simm...</td>\n",
       "      <td>Write the text as if it were a love letter fr...</td>\n",
       "    </tr>\n",
       "    <tr>\n",
       "      <th>18</th>\n",
       "      <td>18</td>\n",
       "      <td>Invictus by William Ernest Henley: 'I am the m...</td>\n",
       "      <td>Rewrite this as a nursery rhyme, with the assi...</td>\n",
       "      <td>I am the master of my fate, in life's garden, ...</td>\n",
       "      <td>Change it into a children's bedtime story.</td>\n",
       "    </tr>\n",
       "    <tr>\n",
       "      <th>19</th>\n",
       "      <td>19</td>\n",
       "      <td>Once upon a time, in a quaint village nestled ...</td>\n",
       "      <td>Rewrite this as a historical account, with the...</td>\n",
       "      <td>In the annals of history, amidst the idyllic l...</td>\n",
       "      <td>Change it into a historical account of a lege...</td>\n",
       "    </tr>\n",
       "    <tr>\n",
       "      <th>20</th>\n",
       "      <td>20</td>\n",
       "      <td>The road less traveled by Robert Frost winds t...</td>\n",
       "      <td>Rewrite this as a recipe for success.</td>\n",
       "      <td>Take a dash of courage and a pinch of persever...</td>\n",
       "      <td>Change it into a recipe for a journey.</td>\n",
       "    </tr>\n",
       "    <tr>\n",
       "      <th>21</th>\n",
       "      <td>21</td>\n",
       "      <td>Once upon a time in a faraway kingdom, there l...</td>\n",
       "      <td>Rewrite this as a scientific discovery.</td>\n",
       "      <td>In a distant realm of the cosmos, a planetary ...</td>\n",
       "      <td>Rewrite the text in a more scientific tone.</td>\n",
       "    </tr>\n",
       "    <tr>\n",
       "      <th>22</th>\n",
       "      <td>22</td>\n",
       "      <td>Dear Mom and Dad, I hope this letter finds you...</td>\n",
       "      <td>Rewrite this as a piece of dialogue in a myste...</td>\n",
       "      <td>Detective, I've uncovered a letter addressed t...</td>\n",
       "      <td>Change it into a detective's discovery.</td>\n",
       "    </tr>\n",
       "    <tr>\n",
       "      <th>23</th>\n",
       "      <td>23</td>\n",
       "      <td>Memo: New policies regarding remote work.</td>\n",
       "      <td>Rewrite this as a poem.</td>\n",
       "      <td>In the realm of work, a memo arrives, / New po...</td>\n",
       "      <td>Change it into a series of poetic lines to be...</td>\n",
       "    </tr>\n",
       "    <tr>\n",
       "      <th>24</th>\n",
       "      <td>24</td>\n",
       "      <td>Excerpt from 'The Great Gatsby' by F. Scott Fi...</td>\n",
       "      <td>Rewrite this as a motivational quote.</td>\n",
       "      <td>In the face of adversity, we press forward, de...</td>\n",
       "      <td>Change it into a motivational quote.</td>\n",
       "    </tr>\n",
       "    <tr>\n",
       "      <th>25</th>\n",
       "      <td>25</td>\n",
       "      <td>Review of 'Inception' directed by Christopher ...</td>\n",
       "      <td>Rewrite this as a lullaby.</td>\n",
       "      <td>Close your eyes, drift away, / In dreams we'll...</td>\n",
       "      <td>Change it into a lullaby.</td>\n",
       "    </tr>\n",
       "    <tr>\n",
       "      <th>26</th>\n",
       "      <td>26</td>\n",
       "      <td>Summary of '1984' by George Orwell: A dystopia...</td>\n",
       "      <td>Rewrite this as a weather report.</td>\n",
       "      <td>Under the oppressive skies of Oceania, a total...</td>\n",
       "      <td>Describe the setting of the novel in a more d...</td>\n",
       "    </tr>\n",
       "    <tr>\n",
       "      <th>27</th>\n",
       "      <td>27</td>\n",
       "      <td>Recipe for creamy tomato basil soup: Simmer ri...</td>\n",
       "      <td>Rewrite this as a love letter.</td>\n",
       "      <td>My dearest, in the kitchen of my heart, I simm...</td>\n",
       "      <td>Change it into a passionate love letter.</td>\n",
       "    </tr>\n",
       "    <tr>\n",
       "      <th>28</th>\n",
       "      <td>28</td>\n",
       "      <td>Invictus by William Ernest Henley: 'I am the m...</td>\n",
       "      <td>Rewrite this as a nursery rhyme.</td>\n",
       "      <td>I am the master of my fate, / In the garden of...</td>\n",
       "      <td>Change it into a line from a garden guide.</td>\n",
       "    </tr>\n",
       "    <tr>\n",
       "      <th>29</th>\n",
       "      <td>29</td>\n",
       "      <td>Once upon a time, in a quaint village nestled ...</td>\n",
       "      <td>Rewrite this as a historical account.</td>\n",
       "      <td>In the annals of history, amidst the idyllic l...</td>\n",
       "      <td>Rewrite the text in a more formal tone preser...</td>\n",
       "    </tr>\n",
       "    <tr>\n",
       "      <th>30</th>\n",
       "      <td>30</td>\n",
       "      <td>Do not go gentle into that good night by Dylan...</td>\n",
       "      <td>Rewrite this as a travel itinerary.</td>\n",
       "      <td>Embrace the dawn with fervent zeal, as we emba...</td>\n",
       "      <td>Change it into a motivational quote for a sun...</td>\n",
       "    </tr>\n",
       "    <tr>\n",
       "      <th>31</th>\n",
       "      <td>31</td>\n",
       "      <td>Dear John, I write to you on this cold winter'...</td>\n",
       "      <td>Rewrite this as a piece of graffiti art.</td>\n",
       "      <td>In the alleys of memory, amidst the whispers o...</td>\n",
       "      <td>Rewrite the text in a more poetic and evocati...</td>\n",
       "    </tr>\n",
       "    <tr>\n",
       "      <th>32</th>\n",
       "      <td>32</td>\n",
       "      <td>Memo: Updated safety protocols for laboratory ...</td>\n",
       "      <td>Rewrite this as a song lyric.</td>\n",
       "      <td>In the laboratory of life, we follow the melod...</td>\n",
       "      <td>Change it into a poetic and metaphorical desc...</td>\n",
       "    </tr>\n",
       "    <tr>\n",
       "      <th>33</th>\n",
       "      <td>33</td>\n",
       "      <td>Excerpt from 'Moby Dick' by Herman Melville: '...</td>\n",
       "      <td>Rewrite this as a dialogue between two strangers.</td>\n",
       "      <td>Stranger 1: Pardon me, but might I inquire you...</td>\n",
       "      <td>Change it into a dialogue between two strangers.</td>\n",
       "    </tr>\n",
       "    <tr>\n",
       "      <th>34</th>\n",
       "      <td>34</td>\n",
       "      <td>Review of 'The Shawshank Redemption' directed ...</td>\n",
       "      <td>Rewrite this as a telegram.</td>\n",
       "      <td>Prisoner of fate, redemption awaits. Hope endu...</td>\n",
       "      <td>Change it into a prisoner's prayer.</td>\n",
       "    </tr>\n",
       "    <tr>\n",
       "      <th>35</th>\n",
       "      <td>35</td>\n",
       "      <td>Summary of 'The Catcher in the Rye' by J.D. Sa...</td>\n",
       "      <td>Rewrite this as a sales pitch.</td>\n",
       "      <td>Embark on a journey of self-discovery with 'Th...</td>\n",
       "      <td>Rewrite the text in a more poetic and evocati...</td>\n",
       "    </tr>\n",
       "    <tr>\n",
       "      <th>36</th>\n",
       "      <td>36</td>\n",
       "      <td>Recipe for spicy chicken curry: Sauté onions, ...</td>\n",
       "      <td>Rewrite this as a poem.</td>\n",
       "      <td>In the pot's embrace, onions dance with glee, ...</td>\n",
       "      <td>Change it into a romantic poem.</td>\n",
       "    </tr>\n",
       "    <tr>\n",
       "      <th>37</th>\n",
       "      <td>37</td>\n",
       "      <td>I Wandered Lonely as a Cloud by William Wordsw...</td>\n",
       "      <td>Rewrite this as a dialogue between two celesti...</td>\n",
       "      <td>Star 1: Look! A cloud wanders lonely below. St...</td>\n",
       "      <td>Change it into a dialogue between two stars i...</td>\n",
       "    </tr>\n",
       "    <tr>\n",
       "      <th>38</th>\n",
       "      <td>38</td>\n",
       "      <td>In a bustling metropolis, beneath neon lights ...</td>\n",
       "      <td>Rewrite this as a weather forecast.</td>\n",
       "      <td>In the heart of the city, beneath neon lights ...</td>\n",
       "      <td>Change the setting of the story to a city whe...</td>\n",
       "    </tr>\n",
       "    <tr>\n",
       "      <th>39</th>\n",
       "      <td>39</td>\n",
       "      <td>Dear Diary, today was an adventure unlike any ...</td>\n",
       "      <td>Rewrite this as a piece of graffiti art.</td>\n",
       "      <td>On the canvas of life, amidst the colors of th...</td>\n",
       "      <td>Change it into a poetic description of a jour...</td>\n",
       "    </tr>\n",
       "    <tr>\n",
       "      <th>40</th>\n",
       "      <td>40</td>\n",
       "      <td>The road not taken by Robert Frost.</td>\n",
       "      <td>Rewrite this as a recipe for life.</td>\n",
       "      <td>Take a cup of courage, a pinch of curiosity, a...</td>\n",
       "      <td>Change it into a recipe for a delicious dessert.</td>\n",
       "    </tr>\n",
       "    <tr>\n",
       "      <th>41</th>\n",
       "      <td>41</td>\n",
       "      <td>Alice's Adventures in Wonderland by Lewis Carr...</td>\n",
       "      <td>Rewrite this as a scientific hypothesis.</td>\n",
       "      <td>In a parallel dimension characterized by disto...</td>\n",
       "      <td>Rewrite this as a scientific study.</td>\n",
       "    </tr>\n",
       "    <tr>\n",
       "      <th>42</th>\n",
       "      <td>42</td>\n",
       "      <td>A love letter from Romeo to Juliet.</td>\n",
       "      <td>Rewrite this as a news report.</td>\n",
       "      <td>Breaking: Passionate Declarations of Love Unea...</td>\n",
       "      <td>Rewrite this as a breaking news report.</td>\n",
       "    </tr>\n",
       "    <tr>\n",
       "      <th>43</th>\n",
       "      <td>43</td>\n",
       "      <td>Company memo regarding new workplace policies.</td>\n",
       "      <td>Rewrite this as a fairy tale.</td>\n",
       "      <td>Once upon a time, in a bustling kingdom of ind...</td>\n",
       "      <td>Change it into a fairy tale.</td>\n",
       "    </tr>\n",
       "    <tr>\n",
       "      <th>44</th>\n",
       "      <td>44</td>\n",
       "      <td>Excerpt from 'Pride and Prejudice' by Jane Aus...</td>\n",
       "      <td>Rewrite this as a step-by-step guide to findin...</td>\n",
       "      <td>Step 1: Brush off societal expectations. Step ...</td>\n",
       "      <td>Change it into a set of steps to achieve love...</td>\n",
       "    </tr>\n",
       "    <tr>\n",
       "      <th>45</th>\n",
       "      <td>45</td>\n",
       "      <td>Review of 'The Godfather' directed by Francis ...</td>\n",
       "      <td>Rewrite this as a children's bedtime story.</td>\n",
       "      <td>In the land of mobsters and mayhem, there live...</td>\n",
       "      <td>Change it into a bedtime story.</td>\n",
       "    </tr>\n",
       "  </tbody>\n",
       "</table>\n",
       "</div>"
      ],
      "text/plain": [
       "    Unnamed: 0                                      Original Text  \\\n",
       "0            0    The sun rises in the east and sets in the west.   \n",
       "1            1  Albert Einstein was a brilliant physicist who ...   \n",
       "2            2                Water boils at 100 degrees Celsius.   \n",
       "3            3                            The cat sat on the mat.   \n",
       "4            4  Romeo and Juliet is a tragic love story writte...   \n",
       "5            5  The Great Depression was a period of economic ...   \n",
       "6            6  Photosynthesis is the process by which plants ...   \n",
       "7            7  The Mona Lisa is a famous painting by Leonardo...   \n",
       "8            8                   The Earth orbits around the Sun.   \n",
       "9            9      Charles Dickens wrote 'A Tale of Two Cities'.   \n",
       "10          10  The road less traveled by Robert Frost winds t...   \n",
       "11          11  Once upon a time in a faraway kingdom, there l...   \n",
       "12          12  Dear Mom and Dad, I hope this letter finds you...   \n",
       "13          13          Memo: New policies regarding remote work.   \n",
       "14          14  Excerpt from 'The Great Gatsby' by F. Scott Fi...   \n",
       "15          15  Review of 'Inception' directed by Christopher ...   \n",
       "16          16  Summary of '1984' by George Orwell: A dystopia...   \n",
       "17          17  Recipe for creamy tomato basil soup: Simmer ri...   \n",
       "18          18  Invictus by William Ernest Henley: 'I am the m...   \n",
       "19          19  Once upon a time, in a quaint village nestled ...   \n",
       "20          20  The road less traveled by Robert Frost winds t...   \n",
       "21          21  Once upon a time in a faraway kingdom, there l...   \n",
       "22          22  Dear Mom and Dad, I hope this letter finds you...   \n",
       "23          23          Memo: New policies regarding remote work.   \n",
       "24          24  Excerpt from 'The Great Gatsby' by F. Scott Fi...   \n",
       "25          25  Review of 'Inception' directed by Christopher ...   \n",
       "26          26  Summary of '1984' by George Orwell: A dystopia...   \n",
       "27          27  Recipe for creamy tomato basil soup: Simmer ri...   \n",
       "28          28  Invictus by William Ernest Henley: 'I am the m...   \n",
       "29          29  Once upon a time, in a quaint village nestled ...   \n",
       "30          30  Do not go gentle into that good night by Dylan...   \n",
       "31          31  Dear John, I write to you on this cold winter'...   \n",
       "32          32  Memo: Updated safety protocols for laboratory ...   \n",
       "33          33  Excerpt from 'Moby Dick' by Herman Melville: '...   \n",
       "34          34  Review of 'The Shawshank Redemption' directed ...   \n",
       "35          35  Summary of 'The Catcher in the Rye' by J.D. Sa...   \n",
       "36          36  Recipe for spicy chicken curry: Sauté onions, ...   \n",
       "37          37  I Wandered Lonely as a Cloud by William Wordsw...   \n",
       "38          38  In a bustling metropolis, beneath neon lights ...   \n",
       "39          39  Dear Diary, today was an adventure unlike any ...   \n",
       "40          40                The road not taken by Robert Frost.   \n",
       "41          41  Alice's Adventures in Wonderland by Lewis Carr...   \n",
       "42          42                A love letter from Romeo to Juliet.   \n",
       "43          43     Company memo regarding new workplace policies.   \n",
       "44          44  Excerpt from 'Pride and Prejudice' by Jane Aus...   \n",
       "45          45  Review of 'The Godfather' directed by Francis ...   \n",
       "\n",
       "                                               Prompt  \\\n",
       "0                    Rewrite this as a romantic poem.   \n",
       "1                Rewrite this as a conspiracy theory.   \n",
       "2   Rewrite this in the style of a scientific rese...   \n",
       "3                     Rewrite this as a horror story.   \n",
       "4               Rewrite this as a clickbait headline.   \n",
       "5         Rewrite this as a children's bedtime story.   \n",
       "6                   Rewrite this as a cooking recipe.   \n",
       "7   Rewrite this as a tweet from a modern art critic.   \n",
       "8   Rewrite this as a text message from an alien s...   \n",
       "9   Rewrite this as a tweet from a literary fan ac...   \n",
       "10  Rewrite this as a recipe for success, incorpor...   \n",
       "11  Rewrite this as a scientific discovery, with t...   \n",
       "12  Rewrite this as a piece of dialogue in a myste...   \n",
       "13  Rewrite this as a poem, with the advice of Yod...   \n",
       "14  Rewrite this as a motivational quote, incorpor...   \n",
       "15  Rewrite this as a lullaby, with the guidance o...   \n",
       "16  Rewrite this as a weather report, with the inp...   \n",
       "17  Rewrite this as a love letter, with the guidan...   \n",
       "18  Rewrite this as a nursery rhyme, with the assi...   \n",
       "19  Rewrite this as a historical account, with the...   \n",
       "20              Rewrite this as a recipe for success.   \n",
       "21            Rewrite this as a scientific discovery.   \n",
       "22  Rewrite this as a piece of dialogue in a myste...   \n",
       "23                            Rewrite this as a poem.   \n",
       "24              Rewrite this as a motivational quote.   \n",
       "25                         Rewrite this as a lullaby.   \n",
       "26                  Rewrite this as a weather report.   \n",
       "27                     Rewrite this as a love letter.   \n",
       "28                   Rewrite this as a nursery rhyme.   \n",
       "29              Rewrite this as a historical account.   \n",
       "30                Rewrite this as a travel itinerary.   \n",
       "31           Rewrite this as a piece of graffiti art.   \n",
       "32                      Rewrite this as a song lyric.   \n",
       "33  Rewrite this as a dialogue between two strangers.   \n",
       "34                        Rewrite this as a telegram.   \n",
       "35                     Rewrite this as a sales pitch.   \n",
       "36                            Rewrite this as a poem.   \n",
       "37  Rewrite this as a dialogue between two celesti...   \n",
       "38                Rewrite this as a weather forecast.   \n",
       "39           Rewrite this as a piece of graffiti art.   \n",
       "40                 Rewrite this as a recipe for life.   \n",
       "41           Rewrite this as a scientific hypothesis.   \n",
       "42                     Rewrite this as a news report.   \n",
       "43                      Rewrite this as a fairy tale.   \n",
       "44  Rewrite this as a step-by-step guide to findin...   \n",
       "45        Rewrite this as a children's bedtime story.   \n",
       "\n",
       "                                       Rewritten Text  \\\n",
       "0   In the east, where dreams take flight, the sun...   \n",
       "1   Deep in the shadows of academia, whispers abou...   \n",
       "2   Empirical observations indicate that the phase...   \n",
       "3   In the dimly lit room, a solitary figure watch...   \n",
       "4   You won't believe what happened to these star-...   \n",
       "5   Once upon a time, in a land not so far away, t...   \n",
       "6   To whip up a batch of energy, gather some gree...   \n",
       "7   Da Vinci's masterpiece, the Mona Lisa, transce...   \n",
       "8   Observations confirm: planetary entity designa...   \n",
       "9    Dive into the riveting tale woven by the inco...   \n",
       "10  Take a dash of courage and a pinch of persever...   \n",
       "11  In a distant realm of the space-time continuum...   \n",
       "12  Sherlock, I've intercepted a letter addressed ...   \n",
       "13  In the realm of work, a memo arrives, with new...   \n",
       "14  In the face of adversity, we press forward, de...   \n",
       "15  Close your eyes, drift away, in dreams we'll d...   \n",
       "16  Under the oppressive skies of Oceania, a total...   \n",
       "17  My dearest, in the kitchen of my heart, I simm...   \n",
       "18  I am the master of my fate, in life's garden, ...   \n",
       "19  In the annals of history, amidst the idyllic l...   \n",
       "20  Take a dash of courage and a pinch of persever...   \n",
       "21  In a distant realm of the cosmos, a planetary ...   \n",
       "22  Detective, I've uncovered a letter addressed t...   \n",
       "23  In the realm of work, a memo arrives, / New po...   \n",
       "24  In the face of adversity, we press forward, de...   \n",
       "25  Close your eyes, drift away, / In dreams we'll...   \n",
       "26  Under the oppressive skies of Oceania, a total...   \n",
       "27  My dearest, in the kitchen of my heart, I simm...   \n",
       "28  I am the master of my fate, / In the garden of...   \n",
       "29  In the annals of history, amidst the idyllic l...   \n",
       "30  Embrace the dawn with fervent zeal, as we emba...   \n",
       "31  In the alleys of memory, amidst the whispers o...   \n",
       "32  In the laboratory of life, we follow the melod...   \n",
       "33  Stranger 1: Pardon me, but might I inquire you...   \n",
       "34  Prisoner of fate, redemption awaits. Hope endu...   \n",
       "35  Embark on a journey of self-discovery with 'Th...   \n",
       "36  In the pot's embrace, onions dance with glee, ...   \n",
       "37  Star 1: Look! A cloud wanders lonely below. St...   \n",
       "38  In the heart of the city, beneath neon lights ...   \n",
       "39  On the canvas of life, amidst the colors of th...   \n",
       "40  Take a cup of courage, a pinch of curiosity, a...   \n",
       "41  In a parallel dimension characterized by disto...   \n",
       "42  Breaking: Passionate Declarations of Love Unea...   \n",
       "43  Once upon a time, in a bustling kingdom of ind...   \n",
       "44  Step 1: Brush off societal expectations. Step ...   \n",
       "45  In the land of mobsters and mayhem, there live...   \n",
       "\n",
       "                                               output  \n",
       "0    Rewrite the text in a more poetic and descrip...  \n",
       "1    Change it into a conspiracy theorist's blog p...  \n",
       "2   vation: In the rewritten text the key elements...  \n",
       "3    Change it into a scene from a suspenseful mys...  \n",
       "4    Change it into a headline for a gossip magazine.  \n",
       "5                        Change it into a fairy tale.  \n",
       "6      Change it into a recipe for a delicious drink.  \n",
       "7                Change it into a motivational quote.  \n",
       "8         Rewrite the text in a more scientific tone.  \n",
       "9        Rewrite the sentence as a social media post.  \n",
       "10      Change it into a recipe for a magical potion.  \n",
       "11          Change it into a scientific breakthrough.  \n",
       "12   Change it into a detective's message to be de...  \n",
       "13   Change it into a mystical and poetic descript...  \n",
       "14   Change it into a motivational quote from a ch...  \n",
       "15                          Change it into a lullaby.  \n",
       "16   Change it into a prophecy from a future society.  \n",
       "17   Write the text as if it were a love letter fr...  \n",
       "18         Change it into a children's bedtime story.  \n",
       "19   Change it into a historical account of a lege...  \n",
       "20             Change it into a recipe for a journey.  \n",
       "21        Rewrite the text in a more scientific tone.  \n",
       "22            Change it into a detective's discovery.  \n",
       "23   Change it into a series of poetic lines to be...  \n",
       "24               Change it into a motivational quote.  \n",
       "25                          Change it into a lullaby.  \n",
       "26   Describe the setting of the novel in a more d...  \n",
       "27           Change it into a passionate love letter.  \n",
       "28         Change it into a line from a garden guide.  \n",
       "29   Rewrite the text in a more formal tone preser...  \n",
       "30   Change it into a motivational quote for a sun...  \n",
       "31   Rewrite the text in a more poetic and evocati...  \n",
       "32   Change it into a poetic and metaphorical desc...  \n",
       "33   Change it into a dialogue between two strangers.  \n",
       "34                Change it into a prisoner's prayer.  \n",
       "35   Rewrite the text in a more poetic and evocati...  \n",
       "36                    Change it into a romantic poem.  \n",
       "37   Change it into a dialogue between two stars i...  \n",
       "38   Change the setting of the story to a city whe...  \n",
       "39   Change it into a poetic description of a jour...  \n",
       "40   Change it into a recipe for a delicious dessert.  \n",
       "41                Rewrite this as a scientific study.  \n",
       "42            Rewrite this as a breaking news report.  \n",
       "43                       Change it into a fairy tale.  \n",
       "44   Change it into a set of steps to achieve love...  \n",
       "45                    Change it into a bedtime story.  "
      ]
     },
     "execution_count": 4,
     "metadata": {},
     "output_type": "execute_result"
    }
   ],
   "source": [
    "data"
   ]
  },
  {
   "cell_type": "code",
   "execution_count": 5,
   "metadata": {
    "execution": {
     "iopub.execute_input": "2024-04-15T22:14:14.514204Z",
     "iopub.status.busy": "2024-04-15T22:14:14.513790Z",
     "iopub.status.idle": "2024-04-15T22:14:14.519609Z",
     "shell.execute_reply": "2024-04-15T22:14:14.518736Z",
     "shell.execute_reply.started": "2024-04-15T22:14:14.514169Z"
    }
   },
   "outputs": [],
   "source": [
    "def sharpened_cosine_similarity(vec1, vec2, exponent=3):\n",
    "    cosine_similarity = torch.nn.functional.cosine_similarity(vec1, vec2, dim=0)\n",
    "    return [cosine_similarity,cosine_similarity ** exponent]"
   ]
  },
  {
   "cell_type": "code",
   "execution_count": 12,
   "metadata": {
    "execution": {
     "iopub.execute_input": "2024-04-15T22:15:11.444677Z",
     "iopub.status.busy": "2024-04-15T22:15:11.443882Z",
     "iopub.status.idle": "2024-04-15T22:15:17.284527Z",
     "shell.execute_reply": "2024-04-15T22:15:17.283638Z",
     "shell.execute_reply.started": "2024-04-15T22:15:11.444640Z"
    }
   },
   "outputs": [],
   "source": [
    "\n",
    "data.reset_index(inplace=True,drop=True)\n",
    "for index,value in enumerate(data['output']):\n",
    "    pred = value\n",
    "    pred = pred.replace(\"Change\",\"Rewrite\")\n",
    "    original = data.loc[index,'Prompt']\n",
    "    test_embedding = model.encode(str(pred), convert_to_tensor=True, show_progress_bar=False)\n",
    "    original_embedding = model.encode(original, convert_to_tensor=True, show_progress_bar=False)\n",
    "    cosine,exp = sharpened_cosine_similarity(test_embedding,original_embedding)\n",
    "    data.loc[index,'cosine'] = cosine.item()\n",
    "    data.loc[index,'exp'] = exp.item()"
   ]
  },
  {
   "cell_type": "code",
   "execution_count": 15,
   "metadata": {
    "execution": {
     "iopub.execute_input": "2024-04-15T22:15:20.518513Z",
     "iopub.status.busy": "2024-04-15T22:15:20.518126Z",
     "iopub.status.idle": "2024-04-15T22:15:20.524008Z",
     "shell.execute_reply": "2024-04-15T22:15:20.522735Z",
     "shell.execute_reply.started": "2024-04-15T22:15:20.518482Z"
    }
   },
   "outputs": [],
   "source": [
    "scores = list(data['exp'])"
   ]
  },
  {
   "cell_type": "code",
   "execution_count": 16,
   "metadata": {
    "execution": {
     "iopub.execute_input": "2024-04-15T22:15:21.283629Z",
     "iopub.status.busy": "2024-04-15T22:15:21.283238Z",
     "iopub.status.idle": "2024-04-15T22:15:21.288649Z",
     "shell.execute_reply": "2024-04-15T22:15:21.287277Z",
     "shell.execute_reply.started": "2024-04-15T22:15:21.283598Z"
    }
   },
   "outputs": [],
   "source": [
    "average_score = sum(scores) / len(scores)"
   ]
  },
  {
   "cell_type": "code",
   "execution_count": 17,
   "metadata": {
    "execution": {
     "iopub.execute_input": "2024-04-15T22:15:21.858518Z",
     "iopub.status.busy": "2024-04-15T22:15:21.858142Z",
     "iopub.status.idle": "2024-04-15T22:15:21.865467Z",
     "shell.execute_reply": "2024-04-15T22:15:21.864060Z",
     "shell.execute_reply.started": "2024-04-15T22:15:21.858487Z"
    }
   },
   "outputs": [
    {
     "data": {
      "text/plain": [
       "0.6828169731990151"
      ]
     },
     "execution_count": 17,
     "metadata": {},
     "output_type": "execute_result"
    }
   ],
   "source": [
    "average_score"
   ]
  },
  {
   "cell_type": "code",
   "execution_count": null,
   "metadata": {},
   "outputs": [],
   "source": [
    "output = \"convert this to shanty\"\n",
    "original = \"turn it into shanty for sailors\"\n",
    "test_embedding = model.encode(output, convert_to_tensor=True, show_progress_bar=False)\n",
    "original_embedding = model.encode(original, convert_to_tensor=True, show_progress_bar=False)\n",
    "cosine,exp = sharpened_cosine_similarity(test_embedding,original_embedding)\n",
    "print(\"cosine is \",cosine.item())\n",
    "print(\"exp \",exp.item())"
   ]
  },
  {
   "cell_type": "code",
   "execution_count": null,
   "metadata": {},
   "outputs": [],
   "source": []
  },
  {
   "cell_type": "code",
   "execution_count": null,
   "metadata": {},
   "outputs": [],
   "source": []
  }
 ],
 "metadata": {
  "kaggle": {
   "accelerator": "none",
   "dataSources": [
    {
     "databundleVersionId": 7806901,
     "sourceId": 67121,
     "sourceType": "competition"
    },
    {
     "datasetId": 4796710,
     "sourceId": 8118287,
     "sourceType": "datasetVersion"
    },
    {
     "datasetId": 4804172,
     "sourceId": 8128493,
     "sourceType": "datasetVersion"
    },
    {
     "datasetId": 4804955,
     "sourceId": 8129571,
     "sourceType": "datasetVersion"
    },
    {
     "datasetId": 4805116,
     "sourceId": 8129786,
     "sourceType": "datasetVersion"
    },
    {
     "datasetId": 4805278,
     "sourceId": 8130014,
     "sourceType": "datasetVersion"
    },
    {
     "modelInstanceId": 284,
     "sourceId": 386,
     "sourceType": "modelInstanceVersion"
    }
   ],
   "dockerImageVersionId": 30673,
   "isGpuEnabled": false,
   "isInternetEnabled": true,
   "language": "python",
   "sourceType": "notebook"
  },
  "kernelspec": {
   "display_name": "Python 3 (ipykernel)",
   "language": "python",
   "name": "python3"
  },
  "language_info": {
   "codemirror_mode": {
    "name": "ipython",
    "version": 3
   },
   "file_extension": ".py",
   "mimetype": "text/x-python",
   "name": "python",
   "nbconvert_exporter": "python",
   "pygments_lexer": "ipython3",
   "version": "3.10.9"
  }
 },
 "nbformat": 4,
 "nbformat_minor": 4
}
